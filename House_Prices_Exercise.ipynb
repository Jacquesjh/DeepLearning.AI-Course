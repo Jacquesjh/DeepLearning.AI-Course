{
  "nbformat": 4,
  "nbformat_minor": 0,
  "metadata": {
    "colab": {
      "name": "House Prices Exercise",
      "provenance": [],
      "mount_file_id": "1y0F7tSrdunAT7Fd5e3IIbCmhGVS86bD5",
      "authorship_tag": "ABX9TyMBV6XGYhwX/MC0fB9J9v8G",
      "include_colab_link": true
    },
    "kernelspec": {
      "name": "python3",
      "display_name": "Python 3"
    }
  },
  "cells": [
    {
      "cell_type": "markdown",
      "metadata": {
        "id": "view-in-github",
        "colab_type": "text"
      },
      "source": [
        "<a href=\"https://colab.research.google.com/github/Jacquesjh/DeepLearning.AI-Course/blob/TensorFlow-for-AI%2C-ML-and-DL/House_Prices_Exercise.ipynb\" target=\"_parent\"><img src=\"https://colab.research.google.com/assets/colab-badge.svg\" alt=\"Open In Colab\"/></a>"
      ]
    },
    {
      "cell_type": "code",
      "metadata": {
        "colab": {
          "base_uri": "https://localhost:8080/"
        },
        "id": "7dRSxEMaML3a",
        "outputId": "adebeec3-08cb-4360-fde3-b2d50210bc4f"
      },
      "source": [
        "%cd /content/drive/MyDrive/Machine Learning/DeepLearning.AI-Course/TensorFlow for AI, ML and DL"
      ],
      "execution_count": 2,
      "outputs": [
        {
          "output_type": "stream",
          "text": [
            "/content/drive/MyDrive/Machine Learning/DeepLearning.AI-Course/TensorFlow for AI, ML and DL\n"
          ],
          "name": "stdout"
        }
      ]
    },
    {
      "cell_type": "code",
      "metadata": {
        "id": "u5rt_7Y_MUzD"
      },
      "source": [
        "import tensorflow as tf\r\n",
        "import numpy as np"
      ],
      "execution_count": 4,
      "outputs": []
    },
    {
      "cell_type": "code",
      "metadata": {
        "id": "5QzqClPHMqSl"
      },
      "source": [
        "# GRADED FUNCTION: house_model\r\n",
        "def house_model(y_new):\r\n",
        "    xs = np.array([0, 1, 2, 3, 4, 5, 6], dtype = int)\r\n",
        "    ys = np.array([0.5, 1.0, 1.5, 2.0, 2.5, 3.0, 3.5], dtype = float)\r\n",
        "    model = tf.keras.Sequential([tf.keras.layers.Dense(1, input_shape = [1])])\r\n",
        "    model.compile(optimizer = 'sgd', loss = 'mean_squared_error')\r\n",
        "    model.fit(xs, ys, epochs = 100, verbose = 2)\r\n",
        "    return model.predict(y_new)[0]"
      ],
      "execution_count": 27,
      "outputs": []
    },
    {
      "cell_type": "code",
      "metadata": {
        "colab": {
          "base_uri": "https://localhost:8080/"
        },
        "id": "rVVsr-3kMsO1",
        "outputId": "828f883a-36c0-4b51-c432-f838b2f55f20"
      },
      "source": [
        "prediction = house_model([7.0])"
      ],
      "execution_count": 28,
      "outputs": [
        {
          "output_type": "stream",
          "text": [
            "Epoch 1/100\n",
            "1/1 - 0s - loss: 20.8229\n",
            "Epoch 2/100\n",
            "1/1 - 0s - loss: 10.9770\n",
            "Epoch 3/100\n",
            "1/1 - 0s - loss: 5.7897\n",
            "Epoch 4/100\n",
            "1/1 - 0s - loss: 3.0568\n",
            "Epoch 5/100\n",
            "1/1 - 0s - loss: 1.6169\n",
            "Epoch 6/100\n",
            "1/1 - 0s - loss: 0.8582\n",
            "Epoch 7/100\n",
            "1/1 - 0s - loss: 0.4585\n",
            "Epoch 8/100\n",
            "1/1 - 0s - loss: 0.2478\n",
            "Epoch 9/100\n",
            "1/1 - 0s - loss: 0.1367\n",
            "Epoch 10/100\n",
            "1/1 - 0s - loss: 0.0781\n",
            "Epoch 11/100\n",
            "1/1 - 0s - loss: 0.0472\n",
            "Epoch 12/100\n",
            "1/1 - 0s - loss: 0.0308\n",
            "Epoch 13/100\n",
            "1/1 - 0s - loss: 0.0221\n",
            "Epoch 14/100\n",
            "1/1 - 0s - loss: 0.0175\n",
            "Epoch 15/100\n",
            "1/1 - 0s - loss: 0.0149\n",
            "Epoch 16/100\n",
            "1/1 - 0s - loss: 0.0136\n",
            "Epoch 17/100\n",
            "1/1 - 0s - loss: 0.0128\n",
            "Epoch 18/100\n",
            "1/1 - 0s - loss: 0.0123\n",
            "Epoch 19/100\n",
            "1/1 - 0s - loss: 0.0119\n",
            "Epoch 20/100\n",
            "1/1 - 0s - loss: 0.0117\n",
            "Epoch 21/100\n",
            "1/1 - 0s - loss: 0.0115\n",
            "Epoch 22/100\n",
            "1/1 - 0s - loss: 0.0114\n",
            "Epoch 23/100\n",
            "1/1 - 0s - loss: 0.0112\n",
            "Epoch 24/100\n",
            "1/1 - 0s - loss: 0.0111\n",
            "Epoch 25/100\n",
            "1/1 - 0s - loss: 0.0110\n",
            "Epoch 26/100\n",
            "1/1 - 0s - loss: 0.0108\n",
            "Epoch 27/100\n",
            "1/1 - 0s - loss: 0.0107\n",
            "Epoch 28/100\n",
            "1/1 - 0s - loss: 0.0106\n",
            "Epoch 29/100\n",
            "1/1 - 0s - loss: 0.0104\n",
            "Epoch 30/100\n",
            "1/1 - 0s - loss: 0.0103\n",
            "Epoch 31/100\n",
            "1/1 - 0s - loss: 0.0102\n",
            "Epoch 32/100\n",
            "1/1 - 0s - loss: 0.0101\n",
            "Epoch 33/100\n",
            "1/1 - 0s - loss: 0.0100\n",
            "Epoch 34/100\n",
            "1/1 - 0s - loss: 0.0099\n",
            "Epoch 35/100\n",
            "1/1 - 0s - loss: 0.0097\n",
            "Epoch 36/100\n",
            "1/1 - 0s - loss: 0.0096\n",
            "Epoch 37/100\n",
            "1/1 - 0s - loss: 0.0095\n",
            "Epoch 38/100\n",
            "1/1 - 0s - loss: 0.0094\n",
            "Epoch 39/100\n",
            "1/1 - 0s - loss: 0.0093\n",
            "Epoch 40/100\n",
            "1/1 - 0s - loss: 0.0092\n",
            "Epoch 41/100\n",
            "1/1 - 0s - loss: 0.0091\n",
            "Epoch 42/100\n",
            "1/1 - 0s - loss: 0.0090\n",
            "Epoch 43/100\n",
            "1/1 - 0s - loss: 0.0089\n",
            "Epoch 44/100\n",
            "1/1 - 0s - loss: 0.0088\n",
            "Epoch 45/100\n",
            "1/1 - 0s - loss: 0.0087\n",
            "Epoch 46/100\n",
            "1/1 - 0s - loss: 0.0086\n",
            "Epoch 47/100\n",
            "1/1 - 0s - loss: 0.0085\n",
            "Epoch 48/100\n",
            "1/1 - 0s - loss: 0.0084\n",
            "Epoch 49/100\n",
            "1/1 - 0s - loss: 0.0083\n",
            "Epoch 50/100\n",
            "1/1 - 0s - loss: 0.0082\n",
            "Epoch 51/100\n",
            "1/1 - 0s - loss: 0.0081\n",
            "Epoch 52/100\n",
            "1/1 - 0s - loss: 0.0080\n",
            "Epoch 53/100\n",
            "1/1 - 0s - loss: 0.0079\n",
            "Epoch 54/100\n",
            "1/1 - 0s - loss: 0.0078\n",
            "Epoch 55/100\n",
            "1/1 - 0s - loss: 0.0077\n",
            "Epoch 56/100\n",
            "1/1 - 0s - loss: 0.0076\n",
            "Epoch 57/100\n",
            "1/1 - 0s - loss: 0.0075\n",
            "Epoch 58/100\n",
            "1/1 - 0s - loss: 0.0074\n",
            "Epoch 59/100\n",
            "1/1 - 0s - loss: 0.0074\n",
            "Epoch 60/100\n",
            "1/1 - 0s - loss: 0.0073\n",
            "Epoch 61/100\n",
            "1/1 - 0s - loss: 0.0072\n",
            "Epoch 62/100\n",
            "1/1 - 0s - loss: 0.0071\n",
            "Epoch 63/100\n",
            "1/1 - 0s - loss: 0.0070\n",
            "Epoch 64/100\n",
            "1/1 - 0s - loss: 0.0069\n",
            "Epoch 65/100\n",
            "1/1 - 0s - loss: 0.0069\n",
            "Epoch 66/100\n",
            "1/1 - 0s - loss: 0.0068\n",
            "Epoch 67/100\n",
            "1/1 - 0s - loss: 0.0067\n",
            "Epoch 68/100\n",
            "1/1 - 0s - loss: 0.0066\n",
            "Epoch 69/100\n",
            "1/1 - 0s - loss: 0.0065\n",
            "Epoch 70/100\n",
            "1/1 - 0s - loss: 0.0065\n",
            "Epoch 71/100\n",
            "1/1 - 0s - loss: 0.0064\n",
            "Epoch 72/100\n",
            "1/1 - 0s - loss: 0.0063\n",
            "Epoch 73/100\n",
            "1/1 - 0s - loss: 0.0062\n",
            "Epoch 74/100\n",
            "1/1 - 0s - loss: 0.0062\n",
            "Epoch 75/100\n",
            "1/1 - 0s - loss: 0.0061\n",
            "Epoch 76/100\n",
            "1/1 - 0s - loss: 0.0060\n",
            "Epoch 77/100\n",
            "1/1 - 0s - loss: 0.0060\n",
            "Epoch 78/100\n",
            "1/1 - 0s - loss: 0.0059\n",
            "Epoch 79/100\n",
            "1/1 - 0s - loss: 0.0058\n",
            "Epoch 80/100\n",
            "1/1 - 0s - loss: 0.0057\n",
            "Epoch 81/100\n",
            "1/1 - 0s - loss: 0.0057\n",
            "Epoch 82/100\n",
            "1/1 - 0s - loss: 0.0056\n",
            "Epoch 83/100\n",
            "1/1 - 0s - loss: 0.0056\n",
            "Epoch 84/100\n",
            "1/1 - 0s - loss: 0.0055\n",
            "Epoch 85/100\n",
            "1/1 - 0s - loss: 0.0054\n",
            "Epoch 86/100\n",
            "1/1 - 0s - loss: 0.0054\n",
            "Epoch 87/100\n",
            "1/1 - 0s - loss: 0.0053\n",
            "Epoch 88/100\n",
            "1/1 - 0s - loss: 0.0052\n",
            "Epoch 89/100\n",
            "1/1 - 0s - loss: 0.0052\n",
            "Epoch 90/100\n",
            "1/1 - 0s - loss: 0.0051\n",
            "Epoch 91/100\n",
            "1/1 - 0s - loss: 0.0051\n",
            "Epoch 92/100\n",
            "1/1 - 0s - loss: 0.0050\n",
            "Epoch 93/100\n",
            "1/1 - 0s - loss: 0.0049\n",
            "Epoch 94/100\n",
            "1/1 - 0s - loss: 0.0049\n",
            "Epoch 95/100\n",
            "1/1 - 0s - loss: 0.0048\n",
            "Epoch 96/100\n",
            "1/1 - 0s - loss: 0.0048\n",
            "Epoch 97/100\n",
            "1/1 - 0s - loss: 0.0047\n",
            "Epoch 98/100\n",
            "1/1 - 0s - loss: 0.0047\n",
            "Epoch 99/100\n",
            "1/1 - 0s - loss: 0.0046\n",
            "Epoch 100/100\n",
            "1/1 - 0s - loss: 0.0045\n",
            "WARNING:tensorflow:8 out of the last 8 calls to <function Model.make_predict_function.<locals>.predict_function at 0x7f47acbe4ea0> triggered tf.function retracing. Tracing is expensive and the excessive number of tracings could be due to (1) creating @tf.function repeatedly in a loop, (2) passing tensors with different shapes, (3) passing Python objects instead of tensors. For (1), please define your @tf.function outside of the loop. For (2), @tf.function has experimental_relax_shapes=True option that relaxes argument shapes that can avoid unnecessary retracing. For (3), please refer to https://www.tensorflow.org/tutorials/customization/performance#python_or_tensor_args and https://www.tensorflow.org/api_docs/python/tf/function for  more details.\n"
          ],
          "name": "stdout"
        }
      ]
    },
    {
      "cell_type": "code",
      "metadata": {
        "colab": {
          "base_uri": "https://localhost:8080/"
        },
        "id": "4b7pupDIMtQR",
        "outputId": "f0bc6c1b-0239-4a9b-be67-79f14a9fc3be"
      },
      "source": [
        "print(prediction)"
      ],
      "execution_count": 29,
      "outputs": [
        {
          "output_type": "stream",
          "text": [
            "[4.0788307]\n"
          ],
          "name": "stdout"
        }
      ]
    },
    {
      "cell_type": "code",
      "metadata": {
        "id": "ZwK0_xkyM0aF"
      },
      "source": [
        ""
      ],
      "execution_count": null,
      "outputs": []
    }
  ]
}